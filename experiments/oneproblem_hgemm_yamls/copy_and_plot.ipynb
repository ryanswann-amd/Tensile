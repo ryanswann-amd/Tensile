{
 "cells": [
  {
   "cell_type": "code",
   "execution_count": 20,
   "metadata": {},
   "outputs": [
    {
     "name": "stdout",
     "output_type": "stream",
     "text": [
      "['hgemmoneproblem_5_2024-05-22_02-56-28.csv', 'hgemmoneproblem_11_2024-05-22_02-56-28.csv', 'hgemmoneproblem_10_2024-05-22_02-56-28.csv', 'hgemmoneproblem_8_2024-05-22_02-56-28.csv', 'hgemmoneproblem_9_2024-05-22_02-56-28.csv', 'hgemmoneproblem_15_2024-05-22_02-56-28.csv', 'hgemmoneproblem_7_2024-05-22_02-56-28.csv', 'hgemmoneproblem_13_2024-05-22_02-56-28.csv', 'hgemmoneproblem_0_2024-05-22_02-56-28.csv', 'hgemmoneproblem_12_2024-05-22_02-56-28.csv', 'hgemmoneproblem_3_2024-05-22_02-56-28.csv', 'hgemmoneproblem_2_2024-05-22_02-56-28.csv', 'hgemmoneproblem_0_2024-05-22_02-38-49.csv', 'hgemmoneproblem_14_2024-05-22_02-56-28.csv', 'hgemmoneproblem_1_2024-05-22_02-56-28.csv', 'hgemmoneproblem_6_2024-05-22_02-56-28.csv', 'hgemmoneproblem_4_2024-05-22_02-56-28.csv']\n"
     ]
    },
    {
     "name": "stderr",
     "output_type": "stream",
     "text": [
      "/tmp/ipykernel_1375627/1231596167.py:39: FutureWarning: The behavior of DataFrame concatenation with empty or all-NA entries is deprecated. In a future version, this will no longer exclude empty or all-NA columns when determining the result dtypes. To retain the old behavior, exclude the relevant entries before the concat operation.\n",
      "  df = pd.concat(dfs).reset_index()\n"
     ]
    },
    {
     "name": "stdout",
     "output_type": "stream",
     "text": [
      "0          Cijk_Ailk_Bjlk_HHS_BH_MT64x512x16_MI16x16x16x1...\n",
      "1          Cijk_Ailk_Bjlk_HHS_BH_MT64x512x16_MI16x16x16x1...\n",
      "2          Cijk_Ailk_Bjlk_HHS_BH_MT64x512x16_MI16x16x16x1...\n",
      "3          Cijk_Ailk_Bjlk_HHS_BH_MT64x512x16_MI16x16x16x1...\n",
      "4          Cijk_Ailk_Bjlk_HHS_BH_MT64x512x16_MI16x16x16x1...\n",
      "                                 ...                        \n",
      "1141931    Cijk_Ailk_Bjlk_HHS_BH_MT16x64x64_MI16x16x16x1_...\n",
      "1141932    Cijk_Ailk_Bjlk_HHS_BH_MT16x64x64_MI16x16x16x1_...\n",
      "1141933    Cijk_Ailk_Bjlk_HHS_BH_MT16x64x64_MI16x16x16x1_...\n",
      "1141934    Cijk_Ailk_Bjlk_HHS_BH_MT16x64x64_MI16x16x16x1_...\n",
      "1141935    Cijk_Ailk_Bjlk_HHS_BH_MT16x64x64_MI16x16x16x1_...\n",
      "Name: solution, Length: 1141936, dtype: object\n"
     ]
    }
   ],
   "source": [
    "import os\n",
    "import pandas as pd\n",
    "import matplotlib.pyplot as plt\n",
    "from tqdm import tqdm\n",
    "base_dir = \"/home/ryaswann/Tensile_skoptions/experiments/oneproblem_hgemm_yamls/exploration_results\"\n",
    "files = os.listdir(f\"{base_dir}\")\n",
    "print(files)\n",
    "tempFiles = []\n",
    "for file in files:\n",
    "    if \".csv\" in file:\n",
    "        tempFiles.append(file)\n",
    "files = tempFiles\n",
    "\n",
    "dfs = []\n",
    "for infile in (files):\n",
    "    try:\n",
    "        #print(f\"Loading {infile}\")\n",
    "        out = open(\"tensile_temp.csv\",\"w\")\n",
    "        input = open(f\"{base_dir}/{infile}\",\"r\")\n",
    "        out.write(\"run,problem-progress,solution-progress,operation,problem-sizes,solution,validation,time-us,gflops,empty,total-gran,tiles-per-cu,num-cus,tile0-gran,tile1-gran,cu-gran,wave-gran,mem-read-bytes,mem-write-bytes,temp-edge,clock-sys,clock-soc,clock-mem,fan-rpm,hardware-samples,gfx-frequency(median),power(median),hotspot-temperature(median),enqueue-time\\n\")\n",
    "        #print(\"hi\")\n",
    "        for line in input:\n",
    "            #print(line)\n",
    "            if len(line.split(\",\")) > 3 and (\"Contraction\" in line):\n",
    "                out.write(line)\n",
    "        #print(\"Closing\")\n",
    "        out.close()\n",
    "        df = pd.read_csv(\"tensile_temp.csv\")\n",
    "        #print(df)\n",
    "        dfs.append(df)\n",
    "        #display(df)\n",
    "\n",
    "    except pd.errors.EmptyDataError:\n",
    "        print(\"bleh\")\n",
    "\n",
    "    except UnicodeDecodeError:\n",
    "        print(\"heck\")\n",
    "\n",
    "df = pd.concat(dfs).reset_index()\n",
    "print(df[\"solution\"])\n",
    "df[\"Macro_Tile\"] = df[\"solution\"].str.split(\"_\",expand=True)[5]\n",
    "df[\"Matrix_Instruction\"] = df[\"solution\"].str.split(\"_\",expand=True)[6]\n",
    "\n",
    "df.to_csv(\"results.csv\")\n",
    "#df = df.loc[df[\"problem-sizes\"] == \"(4096,4096,1,4096)\"]\n",
    "display(df)\n",
    "\n",
    "thing_to_plot_y=\"gflops\"\n",
    "thing_to_plot_x = \"Macro_Tile\"\n",
    "thing_to_color=\"Matrix_Instruction\"\n",
    "colors = [\"red\",\"blue\"]\n",
    "unique_problem_sizes = df[\"problem-sizes\"].unique()\n",
    "problem_size_cnt = 0\n",
    "\n",
    "plt.clf()\n",
    "unique_problem_sizes = unique_problem_sizes[-4:]\n",
    "fig,axs = plt.subplots(len(unique_problem_sizes),1,figsize=(20,5 * len(unique_problem_sizes)))\n",
    "#\n",
    "\n",
    "print(unique_problem_sizes)\n",
    "for problem_size in tqdm(unique_problem_sizes):\n",
    "    #axs[].figure(figsize=(20,5))\n",
    "    #axs[problem_size_cnt][1].grid()\n",
    "    temp_df = df.loc[df[\"problem-sizes\"] == problem_size]\n",
    "    #temp_df = df.loc[df[\"Matrix_Instruction\"] == matrix_instruction]\n",
    "    sc=axs[problem_size_cnt].scatter(temp_df[thing_to_plot_x],temp_df[thing_to_plot_y])\n",
    "    #axs[problem_size_cnt].set_xticks(temp_df[thing_to_plot_x],temp_df[thing_to_plot_x],rotation=90)\n",
    "    for tick in axs[problem_size_cnt].get_xticklabels():\n",
    "        tick.set_rotation(90)\n",
    "    #axs[problem_size_cnt].set_xticklabels(axs[problem_size_cnt].get_xticks(), rotation = 90)\n",
    "    #plt.title(matrix_instruction)\n",
    "    if thing_to_color == \"gflops\":\n",
    "        plt.colorbar(sc)\n",
    "    axs[problem_size_cnt].set_title(f\"Problem Size {problem_size}\")\n",
    "    #plt.show()\n",
    "    #plt.clf()\n",
    "    problem_size_cnt = problem_size_cnt + 1"
   ]
  },
  {
   "cell_type": "code",
   "execution_count": null,
   "metadata": {},
   "outputs": [],
   "source": []
  },
  {
   "cell_type": "code",
   "execution_count": null,
   "metadata": {},
   "outputs": [],
   "source": []
  }
 ],
 "metadata": {
  "kernelspec": {
   "display_name": "Python 3",
   "language": "python",
   "name": "python3"
  },
  "language_info": {
   "codemirror_mode": {
    "name": "ipython",
    "version": 3
   },
   "file_extension": ".py",
   "mimetype": "text/x-python",
   "name": "python",
   "nbconvert_exporter": "python",
   "pygments_lexer": "ipython3",
   "version": "3.10.12"
  }
 },
 "nbformat": 4,
 "nbformat_minor": 2
}
